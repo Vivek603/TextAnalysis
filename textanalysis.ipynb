{
 "cells": [
  {
   "cell_type": "code",
   "execution_count": 1,
   "id": "ac231080",
   "metadata": {
    "execution": {
     "iopub.execute_input": "2023-04-13T13:58:32.362942Z",
     "iopub.status.busy": "2023-04-13T13:58:32.362567Z",
     "iopub.status.idle": "2023-04-13T13:58:34.709604Z",
     "shell.execute_reply": "2023-04-13T13:58:34.707528Z"
    },
    "papermill": {
     "duration": 2.358442,
     "end_time": "2023-04-13T13:58:34.713259",
     "exception": false,
     "start_time": "2023-04-13T13:58:32.354817",
     "status": "completed"
    },
    "tags": []
   },
   "outputs": [],
   "source": [
    "import pandas as pd\n",
    "from bs4 import BeautifulSoup\n",
    "import requests\n",
    "import nltk\n",
    "import regex as re\n"
   ]
  },
  {
   "cell_type": "code",
   "execution_count": 2,
   "id": "f1f39848",
   "metadata": {
    "execution": {
     "iopub.execute_input": "2023-04-13T13:58:34.729289Z",
     "iopub.status.busy": "2023-04-13T13:58:34.728293Z",
     "iopub.status.idle": "2023-04-13T13:58:34.788034Z",
     "shell.execute_reply": "2023-04-13T13:58:34.786464Z"
    },
    "papermill": {
     "duration": 0.071276,
     "end_time": "2023-04-13T13:58:34.790653",
     "exception": false,
     "start_time": "2023-04-13T13:58:34.719377",
     "status": "completed"
    },
    "tags": []
   },
   "outputs": [],
   "source": [
    "# List of file names to load\n",
    "file_names = [r'/kaggle/input/text-analysis/StopWords_Auditor.txt',r'/kaggle/input/text-analysis/StopWords_Currencies.txt',r'/kaggle/input/text-analysis/StopWords_DatesandNumbers.txt',r'/kaggle/input/text-analysis/StopWords_Generic.txt',r'/kaggle/input/text-analysis/StopWords_GenericLong.txt',r'/kaggle/input/text-analysis/StopWords_Geographic.txt',r'/kaggle/input/text-analysis/StopWords_Names.txt']\n",
    "\n",
    "# Open a new file object to write the combined contents\n",
    "with open('combined.txt', 'w') as combined_file:\n",
    "    # Loop over the file names and append the contents to the combined file\n",
    "    for file_name in file_names:\n",
    "        with open(file_name, 'r',encoding='latin-1') as f:\n",
    "            contents = f.read()\n",
    "            combined_file.write(contents)\n",
    "with open('combined.txt', 'r') as f:\n",
    "    stop_words = set([line.strip() for line in f])\n",
    "with open('/kaggle/input/text-analysis/positive-words.txt', 'r',encoding='latin-1') as f:\n",
    "    positive_words = set([line.strip() for line in f])\n",
    "with open('/kaggle/input/text-analysis/negative-words.txt', 'r',encoding='latin-1') as f:\n",
    "    negative_words = set([line.strip() for line in f])\n"
   ]
  },
  {
   "cell_type": "code",
   "execution_count": 3,
   "id": "199ceb1d",
   "metadata": {
    "execution": {
     "iopub.execute_input": "2023-04-13T13:58:34.803678Z",
     "iopub.status.busy": "2023-04-13T13:58:34.803242Z",
     "iopub.status.idle": "2023-04-13T13:58:34.810285Z",
     "shell.execute_reply": "2023-04-13T13:58:34.808427Z"
    },
    "papermill": {
     "duration": 0.016973,
     "end_time": "2023-04-13T13:58:34.813346",
     "exception": false,
     "start_time": "2023-04-13T13:58:34.796373",
     "status": "completed"
    },
    "tags": []
   },
   "outputs": [],
   "source": [
    "# Define functions to calculate metrics\n",
    "def get_positive_score(text):\n",
    "    return sum([1 for word in text.lower().split() if word in positive_words])\n"
   ]
  },
  {
   "cell_type": "code",
   "execution_count": 4,
   "id": "21cdc20f",
   "metadata": {
    "execution": {
     "iopub.execute_input": "2023-04-13T13:58:34.827788Z",
     "iopub.status.busy": "2023-04-13T13:58:34.827434Z",
     "iopub.status.idle": "2023-04-13T13:58:34.831806Z",
     "shell.execute_reply": "2023-04-13T13:58:34.830962Z"
    },
    "papermill": {
     "duration": 0.014717,
     "end_time": "2023-04-13T13:58:34.834385",
     "exception": false,
     "start_time": "2023-04-13T13:58:34.819668",
     "status": "completed"
    },
    "tags": []
   },
   "outputs": [],
   "source": [
    "def get_negative_score(text):\n",
    "    return sum([1 for word in text.lower().split() if word in negative_words])\n"
   ]
  },
  {
   "cell_type": "code",
   "execution_count": 5,
   "id": "a3c6ff57",
   "metadata": {
    "execution": {
     "iopub.execute_input": "2023-04-13T13:58:34.849445Z",
     "iopub.status.busy": "2023-04-13T13:58:34.848691Z",
     "iopub.status.idle": "2023-04-13T13:58:34.854633Z",
     "shell.execute_reply": "2023-04-13T13:58:34.853328Z"
    },
    "papermill": {
     "duration": 0.017164,
     "end_time": "2023-04-13T13:58:34.857425",
     "exception": false,
     "start_time": "2023-04-13T13:58:34.840261",
     "status": "completed"
    },
    "tags": []
   },
   "outputs": [],
   "source": [
    "def get_polarity_score(text):\n",
    "    return (get_positive_score(text) - get_negative_score(text)) / (get_positive_score(text) + get_negative_score(text) + 0.000001)\n"
   ]
  },
  {
   "cell_type": "code",
   "execution_count": 6,
   "id": "e869d43c",
   "metadata": {
    "execution": {
     "iopub.execute_input": "2023-04-13T13:58:34.873497Z",
     "iopub.status.busy": "2023-04-13T13:58:34.872714Z",
     "iopub.status.idle": "2023-04-13T13:58:34.878224Z",
     "shell.execute_reply": "2023-04-13T13:58:34.877287Z"
    },
    "papermill": {
     "duration": 0.017059,
     "end_time": "2023-04-13T13:58:34.880732",
     "exception": false,
     "start_time": "2023-04-13T13:58:34.863673",
     "status": "completed"
    },
    "tags": []
   },
   "outputs": [],
   "source": [
    "def get_word_count(text):\n",
    "    words = nltk.word_tokenize(text.lower())\n",
    "    clean = [word for word in words if len(word) > 0 and word not in stop_words and word.isalpha()]\n",
    "    return len(clean)\n"
   ]
  },
  {
   "cell_type": "code",
   "execution_count": 7,
   "id": "d52775c1",
   "metadata": {
    "execution": {
     "iopub.execute_input": "2023-04-13T13:58:34.895265Z",
     "iopub.status.busy": "2023-04-13T13:58:34.894609Z",
     "iopub.status.idle": "2023-04-13T13:58:34.900722Z",
     "shell.execute_reply": "2023-04-13T13:58:34.898395Z"
    },
    "papermill": {
     "duration": 0.018021,
     "end_time": "2023-04-13T13:58:34.904391",
     "exception": false,
     "start_time": "2023-04-13T13:58:34.886370",
     "status": "completed"
    },
    "tags": []
   },
   "outputs": [],
   "source": [
    "def get_subjectivity_score(text):\n",
    "    return (get_positive_score(text) + get_negative_score(text))/ ((get_word_count(text)) + 0.000001)\n"
   ]
  },
  {
   "cell_type": "code",
   "execution_count": 8,
   "id": "b4fb3a8d",
   "metadata": {
    "execution": {
     "iopub.execute_input": "2023-04-13T13:58:34.919278Z",
     "iopub.status.busy": "2023-04-13T13:58:34.918797Z",
     "iopub.status.idle": "2023-04-13T13:58:34.928025Z",
     "shell.execute_reply": "2023-04-13T13:58:34.925523Z"
    },
    "papermill": {
     "duration": 0.020934,
     "end_time": "2023-04-13T13:58:34.931921",
     "exception": false,
     "start_time": "2023-04-13T13:58:34.910987",
     "status": "completed"
    },
    "tags": []
   },
   "outputs": [],
   "source": [
    "def get_avg_sentence_length(text):\n",
    "    sentences = nltk.sent_tokenize(text)\n",
    "    return sum([len(sentence.split()) for sentence in sentences]) / len(sentences)\n"
   ]
  },
  {
   "cell_type": "code",
   "execution_count": 9,
   "id": "a1a92bbb",
   "metadata": {
    "execution": {
     "iopub.execute_input": "2023-04-13T13:58:34.946328Z",
     "iopub.status.busy": "2023-04-13T13:58:34.945837Z",
     "iopub.status.idle": "2023-04-13T13:58:34.955343Z",
     "shell.execute_reply": "2023-04-13T13:58:34.952795Z"
    },
    "papermill": {
     "duration": 0.020117,
     "end_time": "2023-04-13T13:58:34.958248",
     "exception": false,
     "start_time": "2023-04-13T13:58:34.938131",
     "status": "completed"
    },
    "tags": []
   },
   "outputs": [],
   "source": [
    "def get_percentage_complex_words(text):\n",
    "    words = nltk.word_tokenize(text.lower())\n",
    "    complex_words = [word for word in words if len(word) > 2 and word not in stop_words and word.isalpha()]\n",
    "    return len(complex_words) / len(words)\n"
   ]
  },
  {
   "cell_type": "code",
   "execution_count": 10,
   "id": "a8f30550",
   "metadata": {
    "execution": {
     "iopub.execute_input": "2023-04-13T13:58:34.975137Z",
     "iopub.status.busy": "2023-04-13T13:58:34.974620Z",
     "iopub.status.idle": "2023-04-13T13:58:34.983658Z",
     "shell.execute_reply": "2023-04-13T13:58:34.981164Z"
    },
    "papermill": {
     "duration": 0.022311,
     "end_time": "2023-04-13T13:58:34.987385",
     "exception": false,
     "start_time": "2023-04-13T13:58:34.965074",
     "status": "completed"
    },
    "tags": []
   },
   "outputs": [],
   "source": [
    "def get_fog_index(text):\n",
    "    return 0.4 * (get_avg_sentence_length(text) + 100 * get_percentage_complex_words(text))\n"
   ]
  },
  {
   "cell_type": "code",
   "execution_count": 11,
   "id": "c7289a28",
   "metadata": {
    "execution": {
     "iopub.execute_input": "2023-04-13T13:58:35.002426Z",
     "iopub.status.busy": "2023-04-13T13:58:35.001710Z",
     "iopub.status.idle": "2023-04-13T13:58:35.008988Z",
     "shell.execute_reply": "2023-04-13T13:58:35.007530Z"
    },
    "papermill": {
     "duration": 0.018273,
     "end_time": "2023-04-13T13:58:35.012329",
     "exception": false,
     "start_time": "2023-04-13T13:58:34.994056",
     "status": "completed"
    },
    "tags": []
   },
   "outputs": [],
   "source": [
    "def get_avg_words_per_sentence(text):\n",
    "    # Tokenize the text into sentences\n",
    "    sentences = nltk.sent_tokenize(text)\n",
    "\n",
    "    # Get the total number of words and sentences\n",
    "    total_words = sum(len(nltk.word_tokenize(sentence)) for sentence in sentences)\n",
    "    total_sentences = len(sentences)\n",
    "\n",
    "    # Calculate the average number of words per sentence\n",
    "    if total_sentences > 0:\n",
    "        avg_words_per_sentence = total_words / total_sentences\n",
    "    else:\n",
    "        avg_words_per_sentence = 0\n",
    "\n",
    "    return avg_words_per_sentence\n"
   ]
  },
  {
   "cell_type": "code",
   "execution_count": 12,
   "id": "6453c8d8",
   "metadata": {
    "execution": {
     "iopub.execute_input": "2023-04-13T13:58:35.026120Z",
     "iopub.status.busy": "2023-04-13T13:58:35.025737Z",
     "iopub.status.idle": "2023-04-13T13:58:35.032641Z",
     "shell.execute_reply": "2023-04-13T13:58:35.030547Z"
    },
    "papermill": {
     "duration": 0.016822,
     "end_time": "2023-04-13T13:58:35.035384",
     "exception": false,
     "start_time": "2023-04-13T13:58:35.018562",
     "status": "completed"
    },
    "tags": []
   },
   "outputs": [],
   "source": [
    "def get_avg_word_length(text):\n",
    "    words = nltk.word_tokenize(text.lower())\n",
    "    return sum([len(word) for word in words]) / len(words)\n"
   ]
  },
  {
   "cell_type": "code",
   "execution_count": 13,
   "id": "74cae8e8",
   "metadata": {
    "execution": {
     "iopub.execute_input": "2023-04-13T13:58:35.048006Z",
     "iopub.status.busy": "2023-04-13T13:58:35.047629Z",
     "iopub.status.idle": "2023-04-13T13:58:35.053856Z",
     "shell.execute_reply": "2023-04-13T13:58:35.052704Z"
    },
    "papermill": {
     "duration": 0.015552,
     "end_time": "2023-04-13T13:58:35.056340",
     "exception": false,
     "start_time": "2023-04-13T13:58:35.040788",
     "status": "completed"
    },
    "tags": []
   },
   "outputs": [],
   "source": [
    "def get_complex_word_count(text):\n",
    "    words = nltk.word_tokenize(text.lower())\n",
    "    complex_words = [word for word in words if len(word) > 2 and word not in stop_words and word.isalpha()]\n",
    "    return len(complex_words)\n"
   ]
  },
  {
   "cell_type": "code",
   "execution_count": 14,
   "id": "e900bcfa",
   "metadata": {
    "execution": {
     "iopub.execute_input": "2023-04-13T13:58:35.069740Z",
     "iopub.status.busy": "2023-04-13T13:58:35.069344Z",
     "iopub.status.idle": "2023-04-13T13:58:35.077546Z",
     "shell.execute_reply": "2023-04-13T13:58:35.075883Z"
    },
    "papermill": {
     "duration": 0.018284,
     "end_time": "2023-04-13T13:58:35.080813",
     "exception": false,
     "start_time": "2023-04-13T13:58:35.062529",
     "status": "completed"
    },
    "tags": []
   },
   "outputs": [],
   "source": [
    "def get_syllable_count(word):\n",
    "    vowels = \"aeiouy\"\n",
    "    syllables = 0\n",
    "    prev_char = None\n",
    "    for char in word:\n",
    "        char = char.lower()\n",
    "        if char in vowels and prev_char not in vowels:\n",
    "            syllables += 1\n",
    "        prev_char = char\n",
    "    if word.endswith('es'):\n",
    "        syllables -= 1\n",
    "    if word.endswith('ed'):\n",
    "        syllables -= 1\n",
    "    if syllables == 0:\n",
    "        syllables = 1\n",
    "    return syllables\n"
   ]
  },
  {
   "cell_type": "code",
   "execution_count": 15,
   "id": "eeca6edf",
   "metadata": {
    "execution": {
     "iopub.execute_input": "2023-04-13T13:58:35.098260Z",
     "iopub.status.busy": "2023-04-13T13:58:35.097779Z",
     "iopub.status.idle": "2023-04-13T13:58:35.106032Z",
     "shell.execute_reply": "2023-04-13T13:58:35.103651Z"
    },
    "papermill": {
     "duration": 0.021488,
     "end_time": "2023-04-13T13:58:35.110606",
     "exception": false,
     "start_time": "2023-04-13T13:58:35.089118",
     "status": "completed"
    },
    "tags": []
   },
   "outputs": [],
   "source": [
    "def get_syllables_per_word(text):\n",
    "    words = nltk.word_tokenize(text.lower())\n",
    "    return sum([get_syllable_count(word) for word in words]) / len(words)\n"
   ]
  },
  {
   "cell_type": "code",
   "execution_count": 16,
   "id": "ea2d92cb",
   "metadata": {
    "execution": {
     "iopub.execute_input": "2023-04-13T13:58:35.125170Z",
     "iopub.status.busy": "2023-04-13T13:58:35.124732Z",
     "iopub.status.idle": "2023-04-13T13:58:35.132212Z",
     "shell.execute_reply": "2023-04-13T13:58:35.130589Z"
    },
    "papermill": {
     "duration": 0.01833,
     "end_time": "2023-04-13T13:58:35.134839",
     "exception": false,
     "start_time": "2023-04-13T13:58:35.116509",
     "status": "completed"
    },
    "tags": []
   },
   "outputs": [],
   "source": [
    "def get_personal_pronouns(text):\n",
    "    # Define a regular expression pattern to match personal pronouns\n",
    "    pattern = r\"\\b(I|we|my|ours|us)\\b(?!S\\b)\"\n",
    "    # Find all matches in the text using the pattern\n",
    "    matches = re.findall(pattern, text, re.IGNORECASE)\n",
    "    # Count the number of matches for each pronoun and store in a dictionary\n",
    "    counts = {\n",
    "        \"I\": matches.count(\"I\"),\n",
    "        \"we\": matches.count(\"we\"),\n",
    "        \"my\": matches.count(\"my\"),\n",
    "        \"ours\": matches.count(\"ours\"),\n",
    "        \"us\": matches.count(\"us\")\n",
    "    }\n",
    "    return sum(counts.values())\n"
   ]
  },
  {
   "cell_type": "code",
   "execution_count": 17,
   "id": "5fab44f5",
   "metadata": {
    "execution": {
     "iopub.execute_input": "2023-04-13T13:58:35.149051Z",
     "iopub.status.busy": "2023-04-13T13:58:35.148608Z",
     "iopub.status.idle": "2023-04-13T13:58:35.603470Z",
     "shell.execute_reply": "2023-04-13T13:58:35.600746Z"
    },
    "papermill": {
     "duration": 0.466843,
     "end_time": "2023-04-13T13:58:35.607535",
     "exception": false,
     "start_time": "2023-04-13T13:58:35.140692",
     "status": "completed"
    },
    "tags": []
   },
   "outputs": [],
   "source": [
    "# Load the Excel file into a pandas DataFrame\n",
    "Input = pd.read_excel('/kaggle/input/text-analysis/Input.xlsx')\n",
    "\n",
    "# Extract the links into a list\n",
    "links = Input['URL'].tolist()"
   ]
  },
  {
   "cell_type": "code",
   "execution_count": 18,
   "id": "a55d1442",
   "metadata": {
    "execution": {
     "iopub.execute_input": "2023-04-13T13:58:35.621036Z",
     "iopub.status.busy": "2023-04-13T13:58:35.620614Z",
     "iopub.status.idle": "2023-04-13T13:58:35.657981Z",
     "shell.execute_reply": "2023-04-13T13:58:35.655552Z"
    },
    "papermill": {
     "duration": 0.047289,
     "end_time": "2023-04-13T13:58:35.660622",
     "exception": false,
     "start_time": "2023-04-13T13:58:35.613333",
     "status": "completed"
    },
    "tags": []
   },
   "outputs": [
    {
     "data": {
      "text/html": [
       "<div>\n",
       "<style scoped>\n",
       "    .dataframe tbody tr th:only-of-type {\n",
       "        vertical-align: middle;\n",
       "    }\n",
       "\n",
       "    .dataframe tbody tr th {\n",
       "        vertical-align: top;\n",
       "    }\n",
       "\n",
       "    .dataframe thead th {\n",
       "        text-align: right;\n",
       "    }\n",
       "</style>\n",
       "<table border=\"1\" class=\"dataframe\">\n",
       "  <thead>\n",
       "    <tr style=\"text-align: right;\">\n",
       "      <th></th>\n",
       "      <th>URL_ID</th>\n",
       "      <th>URL</th>\n",
       "    </tr>\n",
       "  </thead>\n",
       "  <tbody>\n",
       "    <tr>\n",
       "      <th>0</th>\n",
       "      <td>37.0</td>\n",
       "      <td>https://insights.blackcoffer.com/ai-in-healthc...</td>\n",
       "    </tr>\n",
       "    <tr>\n",
       "      <th>1</th>\n",
       "      <td>38.0</td>\n",
       "      <td>https://insights.blackcoffer.com/what-if-the-c...</td>\n",
       "    </tr>\n",
       "    <tr>\n",
       "      <th>2</th>\n",
       "      <td>39.0</td>\n",
       "      <td>https://insights.blackcoffer.com/what-jobs-wil...</td>\n",
       "    </tr>\n",
       "    <tr>\n",
       "      <th>3</th>\n",
       "      <td>40.0</td>\n",
       "      <td>https://insights.blackcoffer.com/will-machine-...</td>\n",
       "    </tr>\n",
       "    <tr>\n",
       "      <th>4</th>\n",
       "      <td>41.0</td>\n",
       "      <td>https://insights.blackcoffer.com/will-ai-repla...</td>\n",
       "    </tr>\n",
       "    <tr>\n",
       "      <th>...</th>\n",
       "      <td>...</td>\n",
       "      <td>...</td>\n",
       "    </tr>\n",
       "    <tr>\n",
       "      <th>109</th>\n",
       "      <td>146.0</td>\n",
       "      <td>https://insights.blackcoffer.com/blockchain-fo...</td>\n",
       "    </tr>\n",
       "    <tr>\n",
       "      <th>110</th>\n",
       "      <td>147.0</td>\n",
       "      <td>https://insights.blackcoffer.com/the-future-of...</td>\n",
       "    </tr>\n",
       "    <tr>\n",
       "      <th>111</th>\n",
       "      <td>148.0</td>\n",
       "      <td>https://insights.blackcoffer.com/big-data-anal...</td>\n",
       "    </tr>\n",
       "    <tr>\n",
       "      <th>112</th>\n",
       "      <td>149.0</td>\n",
       "      <td>https://insights.blackcoffer.com/business-anal...</td>\n",
       "    </tr>\n",
       "    <tr>\n",
       "      <th>113</th>\n",
       "      <td>150.0</td>\n",
       "      <td>https://insights.blackcoffer.com/challenges-an...</td>\n",
       "    </tr>\n",
       "  </tbody>\n",
       "</table>\n",
       "<p>114 rows × 2 columns</p>\n",
       "</div>"
      ],
      "text/plain": [
       "     URL_ID                                                URL\n",
       "0      37.0  https://insights.blackcoffer.com/ai-in-healthc...\n",
       "1      38.0  https://insights.blackcoffer.com/what-if-the-c...\n",
       "2      39.0  https://insights.blackcoffer.com/what-jobs-wil...\n",
       "3      40.0  https://insights.blackcoffer.com/will-machine-...\n",
       "4      41.0  https://insights.blackcoffer.com/will-ai-repla...\n",
       "..      ...                                                ...\n",
       "109   146.0  https://insights.blackcoffer.com/blockchain-fo...\n",
       "110   147.0  https://insights.blackcoffer.com/the-future-of...\n",
       "111   148.0  https://insights.blackcoffer.com/big-data-anal...\n",
       "112   149.0  https://insights.blackcoffer.com/business-anal...\n",
       "113   150.0  https://insights.blackcoffer.com/challenges-an...\n",
       "\n",
       "[114 rows x 2 columns]"
      ]
     },
     "execution_count": 18,
     "metadata": {},
     "output_type": "execute_result"
    }
   ],
   "source": [
    "text_list = []\n",
    "Output=pd.DataFrame()\n",
    "Output['URL_ID'] = Input['URL_ID']\n",
    "Output['URL'] = Input['URL']\n",
    "Output.reset_index(drop=True,inplace=True)\n",
    "Output"
   ]
  },
  {
   "cell_type": "code",
   "execution_count": 19,
   "id": "46b7aae1",
   "metadata": {
    "execution": {
     "iopub.execute_input": "2023-04-13T13:58:35.675025Z",
     "iopub.status.busy": "2023-04-13T13:58:35.673143Z",
     "iopub.status.idle": "2023-04-13T14:00:45.046530Z",
     "shell.execute_reply": "2023-04-13T14:00:45.045041Z"
    },
    "papermill": {
     "duration": 129.382378,
     "end_time": "2023-04-13T14:00:45.048706",
     "exception": false,
     "start_time": "2023-04-13T13:58:35.666328",
     "status": "completed"
    },
    "tags": []
   },
   "outputs": [
    {
     "name": "stdout",
     "output_type": "stream",
     "text": [
      "1\n",
      "2\n",
      "3\n",
      "4\n",
      "5\n",
      "6\n",
      "7\n",
      "8\n",
      "9\n",
      "10\n",
      "11\n",
      "12\n",
      "13\n",
      "14\n",
      "15\n",
      "16\n",
      "17\n",
      "18\n",
      "19\n",
      "20\n",
      "21\n",
      "22\n",
      "23\n",
      "24\n",
      "25\n",
      "26\n",
      "27\n",
      "28\n",
      "29\n",
      "30\n",
      "31\n",
      "32\n",
      "33\n",
      "34\n",
      "35\n",
      "36\n",
      "37\n",
      "38\n",
      "39\n",
      "40\n",
      "41\n",
      "42\n",
      "43\n",
      "44\n",
      "45\n",
      "46\n",
      "47\n",
      "48\n",
      "49\n",
      "50\n",
      "51\n",
      "52\n",
      "53\n",
      "54\n",
      "55\n",
      "56\n",
      "57\n",
      "58\n",
      "59\n",
      "60\n",
      "61\n",
      "62\n",
      "63\n",
      "64\n",
      "65\n",
      "66\n",
      "67\n",
      "68\n",
      "69\n",
      "70\n",
      "71\n",
      "72\n",
      "73\n",
      "74\n",
      "75\n",
      "76\n",
      "77\n",
      "78\n",
      "79\n",
      "80\n",
      "81\n",
      "82\n",
      "83\n",
      "84\n",
      "85\n",
      "86\n",
      "87\n",
      "88\n",
      "89\n",
      "90\n",
      "91\n",
      "92\n",
      "93\n",
      "94\n",
      "95\n",
      "96\n",
      "97\n",
      "98\n",
      "99\n",
      "100\n",
      "101\n",
      "102\n",
      "103\n",
      "104\n",
      "105\n",
      "106\n",
      "107\n",
      "108\n",
      "109\n",
      "110\n",
      "111\n",
      "112\n",
      "113\n",
      "114\n"
     ]
    }
   ],
   "source": [
    "count=0\n",
    "# Extract the text from each link\n",
    "for link in links:\n",
    "    response = requests.get(link)\n",
    "    soup = BeautifulSoup(response.content, 'html.parser')\n",
    "    text = soup.get_text()\n",
    "    text_list.append(text)\n",
    "    Output.at[Output.index[count],'POSITIVE SCORE'] = get_positive_score(text)\n",
    "    Output.at[Output.index[count],'NEGATIVE SCORE'] = get_negative_score(text)\n",
    "    Output.at[Output.index[count],'POLARITY SCORE'] = get_polarity_score(text)\n",
    "    Output.at[Output.index[count],'SUBJECTIVITY SCORE'] = get_subjectivity_score(text)\n",
    "    Output.at[Output.index[count],'AVG SENTENCE LENGTH'] = get_avg_sentence_length(text)\n",
    "    Output.at[Output.index[count],'PERCENTAGE OF COMPLEX WORDS'] = get_percentage_complex_words(text)\n",
    "    Output.at[Output.index[count],'FOG INDEX'] = get_fog_index(text)\n",
    "    Output.at[Output.index[count],'AVG NUMBER OF WORDS PER SENTENCE'] = get_avg_words_per_sentence(text)\n",
    "    Output.at[Output.index[count],'COMPLEX WORD COUNT'] = get_complex_word_count(text)\n",
    "    Output.at[Output.index[count],'WORD COUNT'] = get_word_count(text)\n",
    "    Output.at[Output.index[count],'SYLLABLE PER WORD'] = get_syllable_count(text)\n",
    "    Output.at[Output.index[count],'PERSONAL PRONOUNS'] = get_personal_pronouns(text)\n",
    "    Output.at[Output.index[count],'AVG WORD LENGTH'] = get_avg_word_length(text)\n",
    "    count=count+1\n",
    "    print(count)\n"
   ]
  },
  {
   "cell_type": "code",
   "execution_count": 20,
   "id": "5b2ee567",
   "metadata": {
    "execution": {
     "iopub.execute_input": "2023-04-13T14:00:45.075048Z",
     "iopub.status.busy": "2023-04-13T14:00:45.074430Z",
     "iopub.status.idle": "2023-04-13T14:00:45.130291Z",
     "shell.execute_reply": "2023-04-13T14:00:45.128279Z"
    },
    "papermill": {
     "duration": 0.072864,
     "end_time": "2023-04-13T14:00:45.133399",
     "exception": false,
     "start_time": "2023-04-13T14:00:45.060535",
     "status": "completed"
    },
    "tags": []
   },
   "outputs": [],
   "source": [
    "# Exporting the contents to Excel\n",
    "Output.to_excel('Output.xlsx',index=False )\n"
   ]
  },
  {
   "cell_type": "code",
   "execution_count": 21,
   "id": "9a7bdb1d",
   "metadata": {
    "execution": {
     "iopub.execute_input": "2023-04-13T14:00:45.159371Z",
     "iopub.status.busy": "2023-04-13T14:00:45.158993Z",
     "iopub.status.idle": "2023-04-13T14:00:45.190895Z",
     "shell.execute_reply": "2023-04-13T14:00:45.189307Z"
    },
    "papermill": {
     "duration": 0.04822,
     "end_time": "2023-04-13T14:00:45.194091",
     "exception": false,
     "start_time": "2023-04-13T14:00:45.145871",
     "status": "completed"
    },
    "tags": []
   },
   "outputs": [
    {
     "data": {
      "text/html": [
       "<div>\n",
       "<style scoped>\n",
       "    .dataframe tbody tr th:only-of-type {\n",
       "        vertical-align: middle;\n",
       "    }\n",
       "\n",
       "    .dataframe tbody tr th {\n",
       "        vertical-align: top;\n",
       "    }\n",
       "\n",
       "    .dataframe thead th {\n",
       "        text-align: right;\n",
       "    }\n",
       "</style>\n",
       "<table border=\"1\" class=\"dataframe\">\n",
       "  <thead>\n",
       "    <tr style=\"text-align: right;\">\n",
       "      <th></th>\n",
       "      <th>URL_ID</th>\n",
       "      <th>URL</th>\n",
       "      <th>POSITIVE SCORE</th>\n",
       "      <th>NEGATIVE SCORE</th>\n",
       "      <th>POLARITY SCORE</th>\n",
       "      <th>SUBJECTIVITY SCORE</th>\n",
       "      <th>AVG SENTENCE LENGTH</th>\n",
       "      <th>PERCENTAGE OF COMPLEX WORDS</th>\n",
       "      <th>FOG INDEX</th>\n",
       "      <th>AVG NUMBER OF WORDS PER SENTENCE</th>\n",
       "      <th>COMPLEX WORD COUNT</th>\n",
       "      <th>WORD COUNT</th>\n",
       "      <th>SYLLABLE PER WORD</th>\n",
       "      <th>PERSONAL PRONOUNS</th>\n",
       "      <th>AVG WORD LENGTH</th>\n",
       "    </tr>\n",
       "  </thead>\n",
       "  <tbody>\n",
       "    <tr>\n",
       "      <th>0</th>\n",
       "      <td>37.0</td>\n",
       "      <td>https://insights.blackcoffer.com/ai-in-healthc...</td>\n",
       "      <td>104.0</td>\n",
       "      <td>30.0</td>\n",
       "      <td>0.552239</td>\n",
       "      <td>0.086396</td>\n",
       "      <td>32.388235</td>\n",
       "      <td>0.486425</td>\n",
       "      <td>32.412278</td>\n",
       "      <td>35.964706</td>\n",
       "      <td>1487.0</td>\n",
       "      <td>1551.0</td>\n",
       "      <td>5523.0</td>\n",
       "      <td>2.0</td>\n",
       "      <td>5.301276</td>\n",
       "    </tr>\n",
       "    <tr>\n",
       "      <th>1</th>\n",
       "      <td>38.0</td>\n",
       "      <td>https://insights.blackcoffer.com/what-if-the-c...</td>\n",
       "      <td>89.0</td>\n",
       "      <td>32.0</td>\n",
       "      <td>0.471074</td>\n",
       "      <td>0.104491</td>\n",
       "      <td>24.989362</td>\n",
       "      <td>0.411941</td>\n",
       "      <td>26.473401</td>\n",
       "      <td>28.340426</td>\n",
       "      <td>1097.0</td>\n",
       "      <td>1158.0</td>\n",
       "      <td>4345.0</td>\n",
       "      <td>7.0</td>\n",
       "      <td>4.811866</td>\n",
       "    </tr>\n",
       "    <tr>\n",
       "      <th>2</th>\n",
       "      <td>39.0</td>\n",
       "      <td>https://insights.blackcoffer.com/what-jobs-wil...</td>\n",
       "      <td>98.0</td>\n",
       "      <td>37.0</td>\n",
       "      <td>0.451852</td>\n",
       "      <td>0.094538</td>\n",
       "      <td>26.380000</td>\n",
       "      <td>0.467369</td>\n",
       "      <td>29.246765</td>\n",
       "      <td>29.420000</td>\n",
       "      <td>1375.0</td>\n",
       "      <td>1428.0</td>\n",
       "      <td>5257.0</td>\n",
       "      <td>3.0</td>\n",
       "      <td>5.153977</td>\n",
       "    </tr>\n",
       "    <tr>\n",
       "      <th>3</th>\n",
       "      <td>40.0</td>\n",
       "      <td>https://insights.blackcoffer.com/will-machine-...</td>\n",
       "      <td>95.0</td>\n",
       "      <td>22.0</td>\n",
       "      <td>0.623932</td>\n",
       "      <td>0.093005</td>\n",
       "      <td>23.660550</td>\n",
       "      <td>0.415147</td>\n",
       "      <td>26.070111</td>\n",
       "      <td>26.165138</td>\n",
       "      <td>1184.0</td>\n",
       "      <td>1258.0</td>\n",
       "      <td>4794.0</td>\n",
       "      <td>19.0</td>\n",
       "      <td>4.845722</td>\n",
       "    </tr>\n",
       "    <tr>\n",
       "      <th>4</th>\n",
       "      <td>41.0</td>\n",
       "      <td>https://insights.blackcoffer.com/will-ai-repla...</td>\n",
       "      <td>92.0</td>\n",
       "      <td>24.0</td>\n",
       "      <td>0.586207</td>\n",
       "      <td>0.085357</td>\n",
       "      <td>28.645161</td>\n",
       "      <td>0.436789</td>\n",
       "      <td>28.929636</td>\n",
       "      <td>32.150538</td>\n",
       "      <td>1306.0</td>\n",
       "      <td>1359.0</td>\n",
       "      <td>5039.0</td>\n",
       "      <td>13.0</td>\n",
       "      <td>4.948495</td>\n",
       "    </tr>\n",
       "    <tr>\n",
       "      <th>...</th>\n",
       "      <td>...</td>\n",
       "      <td>...</td>\n",
       "      <td>...</td>\n",
       "      <td>...</td>\n",
       "      <td>...</td>\n",
       "      <td>...</td>\n",
       "      <td>...</td>\n",
       "      <td>...</td>\n",
       "      <td>...</td>\n",
       "      <td>...</td>\n",
       "      <td>...</td>\n",
       "      <td>...</td>\n",
       "      <td>...</td>\n",
       "      <td>...</td>\n",
       "      <td>...</td>\n",
       "    </tr>\n",
       "    <tr>\n",
       "      <th>109</th>\n",
       "      <td>146.0</td>\n",
       "      <td>https://insights.blackcoffer.com/blockchain-fo...</td>\n",
       "      <td>54.0</td>\n",
       "      <td>27.0</td>\n",
       "      <td>0.333333</td>\n",
       "      <td>0.083505</td>\n",
       "      <td>30.542373</td>\n",
       "      <td>0.469995</td>\n",
       "      <td>31.016747</td>\n",
       "      <td>33.610169</td>\n",
       "      <td>932.0</td>\n",
       "      <td>970.0</td>\n",
       "      <td>3497.0</td>\n",
       "      <td>10.0</td>\n",
       "      <td>5.279879</td>\n",
       "    </tr>\n",
       "    <tr>\n",
       "      <th>110</th>\n",
       "      <td>147.0</td>\n",
       "      <td>https://insights.blackcoffer.com/the-future-of...</td>\n",
       "      <td>68.0</td>\n",
       "      <td>16.0</td>\n",
       "      <td>0.619048</td>\n",
       "      <td>0.063976</td>\n",
       "      <td>35.185714</td>\n",
       "      <td>0.457652</td>\n",
       "      <td>32.380356</td>\n",
       "      <td>39.371429</td>\n",
       "      <td>1259.0</td>\n",
       "      <td>1313.0</td>\n",
       "      <td>4617.0</td>\n",
       "      <td>2.0</td>\n",
       "      <td>5.009815</td>\n",
       "    </tr>\n",
       "    <tr>\n",
       "      <th>111</th>\n",
       "      <td>148.0</td>\n",
       "      <td>https://insights.blackcoffer.com/big-data-anal...</td>\n",
       "      <td>60.0</td>\n",
       "      <td>42.0</td>\n",
       "      <td>0.176471</td>\n",
       "      <td>0.088465</td>\n",
       "      <td>27.184211</td>\n",
       "      <td>0.487101</td>\n",
       "      <td>30.357724</td>\n",
       "      <td>30.092105</td>\n",
       "      <td>1114.0</td>\n",
       "      <td>1153.0</td>\n",
       "      <td>4021.0</td>\n",
       "      <td>4.0</td>\n",
       "      <td>5.086139</td>\n",
       "    </tr>\n",
       "    <tr>\n",
       "      <th>112</th>\n",
       "      <td>149.0</td>\n",
       "      <td>https://insights.blackcoffer.com/business-anal...</td>\n",
       "      <td>63.0</td>\n",
       "      <td>7.0</td>\n",
       "      <td>0.800000</td>\n",
       "      <td>0.078038</td>\n",
       "      <td>43.918919</td>\n",
       "      <td>0.494369</td>\n",
       "      <td>37.342342</td>\n",
       "      <td>48.000000</td>\n",
       "      <td>878.0</td>\n",
       "      <td>897.0</td>\n",
       "      <td>3333.0</td>\n",
       "      <td>1.0</td>\n",
       "      <td>5.488176</td>\n",
       "    </tr>\n",
       "    <tr>\n",
       "      <th>113</th>\n",
       "      <td>150.0</td>\n",
       "      <td>https://insights.blackcoffer.com/challenges-an...</td>\n",
       "      <td>72.0</td>\n",
       "      <td>41.0</td>\n",
       "      <td>0.274336</td>\n",
       "      <td>0.106704</td>\n",
       "      <td>25.907895</td>\n",
       "      <td>0.477695</td>\n",
       "      <td>29.470965</td>\n",
       "      <td>28.315789</td>\n",
       "      <td>1028.0</td>\n",
       "      <td>1059.0</td>\n",
       "      <td>3845.0</td>\n",
       "      <td>9.0</td>\n",
       "      <td>5.139870</td>\n",
       "    </tr>\n",
       "  </tbody>\n",
       "</table>\n",
       "<p>114 rows × 15 columns</p>\n",
       "</div>"
      ],
      "text/plain": [
       "     URL_ID                                                URL  \\\n",
       "0      37.0  https://insights.blackcoffer.com/ai-in-healthc...   \n",
       "1      38.0  https://insights.blackcoffer.com/what-if-the-c...   \n",
       "2      39.0  https://insights.blackcoffer.com/what-jobs-wil...   \n",
       "3      40.0  https://insights.blackcoffer.com/will-machine-...   \n",
       "4      41.0  https://insights.blackcoffer.com/will-ai-repla...   \n",
       "..      ...                                                ...   \n",
       "109   146.0  https://insights.blackcoffer.com/blockchain-fo...   \n",
       "110   147.0  https://insights.blackcoffer.com/the-future-of...   \n",
       "111   148.0  https://insights.blackcoffer.com/big-data-anal...   \n",
       "112   149.0  https://insights.blackcoffer.com/business-anal...   \n",
       "113   150.0  https://insights.blackcoffer.com/challenges-an...   \n",
       "\n",
       "     POSITIVE SCORE  NEGATIVE SCORE  POLARITY SCORE  SUBJECTIVITY SCORE  \\\n",
       "0             104.0            30.0        0.552239            0.086396   \n",
       "1              89.0            32.0        0.471074            0.104491   \n",
       "2              98.0            37.0        0.451852            0.094538   \n",
       "3              95.0            22.0        0.623932            0.093005   \n",
       "4              92.0            24.0        0.586207            0.085357   \n",
       "..              ...             ...             ...                 ...   \n",
       "109            54.0            27.0        0.333333            0.083505   \n",
       "110            68.0            16.0        0.619048            0.063976   \n",
       "111            60.0            42.0        0.176471            0.088465   \n",
       "112            63.0             7.0        0.800000            0.078038   \n",
       "113            72.0            41.0        0.274336            0.106704   \n",
       "\n",
       "     AVG SENTENCE LENGTH  PERCENTAGE OF COMPLEX WORDS  FOG INDEX  \\\n",
       "0              32.388235                     0.486425  32.412278   \n",
       "1              24.989362                     0.411941  26.473401   \n",
       "2              26.380000                     0.467369  29.246765   \n",
       "3              23.660550                     0.415147  26.070111   \n",
       "4              28.645161                     0.436789  28.929636   \n",
       "..                   ...                          ...        ...   \n",
       "109            30.542373                     0.469995  31.016747   \n",
       "110            35.185714                     0.457652  32.380356   \n",
       "111            27.184211                     0.487101  30.357724   \n",
       "112            43.918919                     0.494369  37.342342   \n",
       "113            25.907895                     0.477695  29.470965   \n",
       "\n",
       "     AVG NUMBER OF WORDS PER SENTENCE  COMPLEX WORD COUNT  WORD COUNT  \\\n",
       "0                           35.964706              1487.0      1551.0   \n",
       "1                           28.340426              1097.0      1158.0   \n",
       "2                           29.420000              1375.0      1428.0   \n",
       "3                           26.165138              1184.0      1258.0   \n",
       "4                           32.150538              1306.0      1359.0   \n",
       "..                                ...                 ...         ...   \n",
       "109                         33.610169               932.0       970.0   \n",
       "110                         39.371429              1259.0      1313.0   \n",
       "111                         30.092105              1114.0      1153.0   \n",
       "112                         48.000000               878.0       897.0   \n",
       "113                         28.315789              1028.0      1059.0   \n",
       "\n",
       "     SYLLABLE PER WORD  PERSONAL PRONOUNS  AVG WORD LENGTH  \n",
       "0               5523.0                2.0         5.301276  \n",
       "1               4345.0                7.0         4.811866  \n",
       "2               5257.0                3.0         5.153977  \n",
       "3               4794.0               19.0         4.845722  \n",
       "4               5039.0               13.0         4.948495  \n",
       "..                 ...                ...              ...  \n",
       "109             3497.0               10.0         5.279879  \n",
       "110             4617.0                2.0         5.009815  \n",
       "111             4021.0                4.0         5.086139  \n",
       "112             3333.0                1.0         5.488176  \n",
       "113             3845.0                9.0         5.139870  \n",
       "\n",
       "[114 rows x 15 columns]"
      ]
     },
     "execution_count": 21,
     "metadata": {},
     "output_type": "execute_result"
    }
   ],
   "source": [
    "Output"
   ]
  }
 ],
 "metadata": {
  "kernelspec": {
   "display_name": "Python 3",
   "language": "python",
   "name": "python3"
  },
  "language_info": {
   "codemirror_mode": {
    "name": "ipython",
    "version": 3
   },
   "file_extension": ".py",
   "mimetype": "text/x-python",
   "name": "python",
   "nbconvert_exporter": "python",
   "pygments_lexer": "ipython3",
   "version": "3.7.12"
  },
  "papermill": {
   "default_parameters": {},
   "duration": 145.17166,
   "end_time": "2023-04-13T14:00:46.232550",
   "environment_variables": {},
   "exception": null,
   "input_path": "__notebook__.ipynb",
   "output_path": "__notebook__.ipynb",
   "parameters": {},
   "start_time": "2023-04-13T13:58:21.060890",
   "version": "2.4.0"
  }
 },
 "nbformat": 4,
 "nbformat_minor": 5
}
